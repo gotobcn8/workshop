{
 "cells": [
  {
   "cell_type": "markdown",
   "metadata": {},
   "source": [
    "## Topic 3: Testing Basics"
   ]
  },
  {
   "cell_type": "markdown",
   "metadata": {},
   "source": [
    "### Testing using assertions"
   ]
  },
  {
   "cell_type": "code",
   "execution_count": null,
   "metadata": {},
   "outputs": [],
   "source": [
    "def div(a,b):\n",
    "    return a // b\n",
    "\n",
    "x = div(10,5)\n",
    "print(x)# Your expectation should be ....?"
   ]
  },
  {
   "cell_type": "code",
   "execution_count": null,
   "metadata": {},
   "outputs": [],
   "source": [
    "# Let's improve this function\n",
    "def is_number(a):\n",
    "    assert (type(a) == int or type(a) == float or type(a) == complex), \\\n",
    "        f\"{a} was not a number (int, float or complex)\""
   ]
  },
  {
   "cell_type": "markdown",
   "metadata": {},
   "source": [
    "### Black box Testing\n",
    "**You only know what is input and output**"
   ]
  },
  {
   "cell_type": "markdown",
   "metadata": {},
   "source": [
    "- build-in function\n",
    "- binary tools\n",
    "- encrypted model"
   ]
  },
  {
   "cell_type": "markdown",
   "metadata": {},
   "source": [
    "### Writing effective test cases\n",
    "- Normal usage\n",
    "- Edge cases\n",
    "- Unintended usage"
   ]
  },
  {
   "cell_type": "code",
   "execution_count": null,
   "metadata": {},
   "outputs": [],
   "source": [
    "# plz design testcases as more as you think\n",
    "\n",
    "def uber(\n",
    "    where_from,#postcode\n",
    "    where_to,#postcode\n",
    "    discount,#percentage\n",
    "    num_passagers,\n",
    "):\n",
    "    pass\n",
    "\n",
    "# normal case: \n",
    "uber(where_from = 5002,where_to = 5082,discount = 0.95,num_passagers = 2)"
   ]
  },
  {
   "cell_type": "code",
   "execution_count": null,
   "metadata": {},
   "outputs": [],
   "source": [
    "# edge\n",
    "uber(where_from = 5002,where_to = 1000000000,discount = 0.95,num_passagers = 2)\n",
    "\n",
    "# Unintended usage\n",
    "uber(where_from = 'input the UK postcode',where_to = 5082,discount = 0.95,num_passagers = 2)\n",
    "\n",
    "# Unintended usage\n",
    "uber(where_from = -1,where_to = 5082,discount = 0.95,num_passagers = 2)\n",
    "\n",
    "# edge\n",
    "uber(where_from = 5002,where_to = 5082,discount = 0.01,num_passagers = 2)\n",
    "\n",
    "# edge\n",
    "uber(where_from = 5002,where_to = 5082,discount = 0.85,num_passagers = 10)\n",
    "\n",
    "# Unintended usage\n",
    "uber(where_from = 5002,where_to = 5082,discount = 0.95,num_passagers = -5)\n",
    "\n",
    "# unintented usage\n",
    "uber(where_from = 5002,where_to = 5082,discount = 1.05,num_passagers = 3)\n",
    "\n",
    "# edge\n",
    "uber(where_from = 5002,where_to = 5002,discount = 1.0,num_passagers = 3)"
   ]
  }
 ],
 "metadata": {
  "kernelspec": {
   "display_name": "py377",
   "language": "python",
   "name": "python3"
  },
  "language_info": {
   "codemirror_mode": {
    "name": "ipython",
    "version": 3
   },
   "file_extension": ".py",
   "mimetype": "text/x-python",
   "name": "python",
   "nbconvert_exporter": "python",
   "pygments_lexer": "ipython3",
   "version": "3.7.12"
  }
 },
 "nbformat": 4,
 "nbformat_minor": 2
}
