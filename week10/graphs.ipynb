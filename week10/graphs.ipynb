{
 "cells": [
  {
   "cell_type": "markdown",
   "metadata": {},
   "source": [
    "### Graph\n",
    "Graph is a data structure related our daily life.\n",
    "\n",
    "![Graph-friends](friends-graph.png)\n",
    "\n",
    "Graph is a non-linear data structure consisting of vertices and edges. The vertices are sometimes also referred to as nodes and the edges are lines or arcs that connect any two nodes in the graph. More formally a Graph is composed of a set of vertices( V ) and a set of edges( E ). The graph is denoted by G(V, E).\n",
    "\n",
    "Definitions relating to graphs:\n",
    "- Vertex: A point, usually represented by a **dot**(**Node**) in a graph. The vertices or nodes are A, B, C, D, and E.\n",
    "- Edge: This is a **connection** between two vertices. The line connecting A and B is an example of an edge.\n",
    "- Loop: When an edge from a node is incident on itself, that edge forms a loop.\n",
    "- Degree of a vertex: This is the number of edges that are incident on a given vertex. The degree of vertex D is 4.\n",
    "- Adjacency: Refers to the connection(s) between a node and its neighbour. Node B is adjacent to node A because there is an - edge between them.\n",
    "- Path: A sequence of vertices where each adjacent pair is connected by an edge.\n",
    "- Graphs may have other properties, like directionality and weight (cost). The graph represented here is a simple, unweighted, undirected graph.  \n",
    "\n",
    "![Graph-friends](friends-graph-introduction.png)"
   ]
  },
  {
   "cell_type": "markdown",
   "metadata": {},
   "source": [
    "### Two type of graph\n",
    "- Directed Graph\n",
    "- Undirected Graphs\n",
    "\n",
    "![directed-graph](directed-graph.png)"
   ]
  },
  {
   "cell_type": "markdown",
   "metadata": {},
   "source": [
    "### Weighted graph\n",
    "It's the most common graph representation.\n",
    "\n",
    "![weighted-graph.png](weighted-graph.png)"
   ]
  },
  {
   "cell_type": "markdown",
   "metadata": {},
   "source": [
    "### How to represent graph using Python?"
   ]
  },
  {
   "cell_type": "code",
   "execution_count": 2,
   "metadata": {},
   "outputs": [
    {
     "name": "stdout",
     "output_type": "stream",
     "text": [
      "[0, 1, -1, -1]\n",
      "[1, 0, 1.3, 0.3]\n",
      "[-1, 1.3, 0, 1.2]\n",
      "[-1, 0.3, 1.2, 0]\n"
     ]
    }
   ],
   "source": [
    "Nodes = ['Hospital','UoA','Theatre','Museum']\n",
    "\n",
    "graph = {\n",
    "    'Hospital':['UoA'],\n",
    "    'UoA':['Hospital','Theatre','Museum'],\n",
    "    'Theatre':['UoA','Museum'],\n",
    "    'Museum':['UoA','Theatre']      \n",
    "}\n",
    "\n",
    "# Weighted graph\n",
    "\n",
    "weighted_graph = [\n",
    "    [0,1,-1,-1], # Hospital\n",
    "    [1,0,1.3,0.3], # UoA\n",
    "    [-1,1.3,0,1.2], # Theatre\n",
    "    [-1,0.3,1.2,0] # Museum\n",
    "]\n",
    "\n",
    "# def beauty_print(x):\n",
    "#     for line in x:\n",
    "        \n",
    "\n",
    "# beauty_print(weighted_graph)"
   ]
  }
 ],
 "metadata": {
  "kernelspec": {
   "display_name": "py377",
   "language": "python",
   "name": "python3"
  },
  "language_info": {
   "codemirror_mode": {
    "name": "ipython",
    "version": 3
   },
   "file_extension": ".py",
   "mimetype": "text/x-python",
   "name": "python",
   "nbconvert_exporter": "python",
   "pygments_lexer": "ipython3",
   "version": "undefined.undefined.undefined"
  }
 },
 "nbformat": 4,
 "nbformat_minor": 2
}
